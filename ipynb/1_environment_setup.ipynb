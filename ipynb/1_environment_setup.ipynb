{
 "cells": [
  {
   "cell_type": "markdown",
   "metadata": {},
   "source": [
    "# 1. 環境配置\n",
    "\n",
    "> <br/>　\n",
    "> 目前 Eskmo 僅支持 群益策略王 API，各家券商將陸續支持\n",
    "> <br/>　"
   ]
  },
  {
   "cell_type": "markdown",
   "metadata": {},
   "source": [
    "---\n",
    "\n",
    "## 1.1. 安裝 Eskmo\n",
    "\n",
    "使用 Eskmo 下單之前，您需要先：\n",
    "\n",
    "- 完成券商開戶作業\n",
    "- 安裝券商 API 憑證\n",
    "- 完成後安裝 Eskmo"
   ]
  },
  {
   "cell_type": "code",
   "execution_count": null,
   "metadata": {
    "vscode": {
     "languageId": "bat"
    }
   },
   "outputs": [],
   "source": [
    "pip install eskmo"
   ]
  },
  {
   "cell_type": "markdown",
   "metadata": {},
   "source": [
    "在 Jupyter Book 中執行 Eskmo，請透過 `api.init()` 初始化 Eskmo 客戶端\n",
    "\n",
    "如果是執行獨立 Python 檔案，請見：http://eskmo.org/advanced-guide/client"
   ]
  },
  {
   "cell_type": "code",
   "execution_count": 17,
   "metadata": {},
   "outputs": [],
   "source": [
    "from eskmo import api\n",
    "api.init() "
   ]
  },
  {
   "cell_type": "markdown",
   "metadata": {},
   "source": [
    "---\n",
    "\n",
    "## 1.2. API 測試\n",
    "\n",
    "藉由執行 API 測試來確認是否正確安裝了相應套件"
   ]
  },
  {
   "cell_type": "code",
   "execution_count": 18,
   "metadata": {},
   "outputs": [
    {
     "name": "stdout",
     "output_type": "stream",
     "text": [
      "{'檢測項目': [('啟動多進程', '成功'), ('依賴套件初始化', '成功'), ('Eskmo 初始化', '成功'), ('Comtypes 初始化', '成功'), ('SKCOM 初始化', '成功')], 'Messages': ['SKCOM API 已就位，可以開始使用']}\n"
     ]
    }
   ],
   "source": [
    "result = api.testing()\n",
    "print(result)"
   ]
  },
  {
   "cell_type": "markdown",
   "metadata": {},
   "source": [
    "---\n",
    "\n",
    "## 1.3. 日誌\n",
    "\n",
    "Eskmo 提供不同等級的運行日誌可以讀取"
   ]
  },
  {
   "cell_type": "markdown",
   "metadata": {},
   "source": [
    "### 顯示日誌\n",
    "\n",
    "透過 logger.show 來控制是否要啟用日誌"
   ]
  },
  {
   "cell_type": "code",
   "execution_count": 1,
   "metadata": {},
   "outputs": [
    {
     "name": "stdout",
     "output_type": "stream",
     "text": [
      "%PU INFO  2024-07-22 11:32:03.385644 | Main | 34524 |The ZMQ Listener initiates on 'tcp://*:53315'.\n",
      "%IU INFO  2024-07-22 11:32:03.438791 | Main | 34524 |The ZMQ socket has been initialized at 'tcp://localhost:53315'.\n",
      "%CP INFO  2024-07-22 11:32:03.490274 | Main | 34524 |API register: ProcessID: 34524 (id=__TESTING__)\n",
      "%JU INFO  2024-07-22 11:32:03.541471 | Main | 34524 |Creating 1 'SkcomRunner' runner(s).\n",
      "%WU INFO  2024-07-22 11:32:03.932678 | API  | 32508 |The API 'SKCOM_e1bca6' has started successfully.\n",
      "%CU INFO  2024-07-22 11:32:03.937264 | API  | 32508 |The ZMQ socket has been initialized at 'tcp://localhost:53315'.\n"
     ]
    },
    {
     "data": {
      "text/plain": [
       "{'檢測項目': [('啟動多進程', '成功'),\n",
       "  ('依賴套件初始化', '成功'),\n",
       "  ('Eskmo 初始化', '成功'),\n",
       "  ('Comtypes 初始化', '成功'),\n",
       "  ('SKCOM 初始化', '成功')],\n",
       " 'Messages': ['SKCOM API 已就位，可以開始使用']}"
      ]
     },
     "execution_count": 1,
     "metadata": {},
     "output_type": "execute_result"
    },
    {
     "name": "stdout",
     "output_type": "stream",
     "text": [
      "%HU INFO  2024-07-22 11:32:03.939881 | API  | 32508 |The ZMQ Listener initiates on 'tcp://*:53321'.\n",
      "%DU INFO  2024-07-22 11:32:04.099048 | Main | 34524 |The ZMQ socket has been initialized at 'tcp://localhost:53321 on port '53321'.\n",
      "%ZU INFO  2024-07-22 11:32:03.945123 | API  | 32508 |Initiating a event loop for COM ...\n",
      "%SG INFO  2024-07-22 11:32:03.952916 | API  | 32508 |The path to the Comtypes cache is:\n",
      "%JX INFO  2024-07-22 11:32:03.952916 | API  | 32508 |1. C:\\Users\\fatfi\\AppData\\Local\\Temp\\comtypes_cache\n",
      "%PG INFO  2024-07-22 11:32:03.952916 | API  | 32508 |2. c:\\Users\\fatfi\\AppData\\Local\\Programs\\Python\\Python311\\Lib\\site-packages\\comtypes\\gen\n",
      "%TU INFO  2024-07-22 11:32:03.954970 | API  | 32508 |Initiating SKCOM ...\n",
      "%BU INFO  2024-07-22 11:32:04.041954 | API  | 32508 |SKCOM initialized successfully.\n"
     ]
    }
   ],
   "source": [
    "from eskmo import api\n",
    "\n",
    "api.logger.show = True\n",
    "api.init() \n",
    "\n",
    "api.testing()"
   ]
  },
  {
   "cell_type": "markdown",
   "metadata": {},
   "source": [
    "### 日誌紀錄\n",
    "\n",
    "使用者也能使用日誌進行不同級別的日誌記錄，預設是顯示 `info` 以上級別的訊息"
   ]
  },
  {
   "cell_type": "code",
   "execution_count": 1,
   "metadata": {},
   "outputs": [
    {
     "name": "stdout",
     "output_type": "stream",
     "text": [
      "%YH INFO  2024-07-22 11:32:10.816940 | Main | 28852 |Info!\n",
      "%ZH WARN  2024-07-22 11:32:10.869145 | Main | 28852 |Warning!\n",
      "%TH ERROR 2024-07-22 11:32:10.920548 | Main | 28852 |Error!\n"
     ]
    }
   ],
   "source": [
    "from eskmo import api\n",
    "\n",
    "logger = api.logger\n",
    "logger.show = True\n",
    "api.init() \n",
    "\n",
    "logger.debug(\"Debug!\")\n",
    "logger.info(\"Info!\")\n",
    "logger.warning(\"Warning!\")\n",
    "logger.error(\"Error!\")"
   ]
  }
 ],
 "metadata": {
  "kernelspec": {
   "display_name": "Python 3",
   "language": "python",
   "name": "python3"
  },
  "language_info": {
   "codemirror_mode": {
    "name": "ipython",
    "version": 3
   },
   "file_extension": ".py",
   "mimetype": "text/x-python",
   "name": "python",
   "nbconvert_exporter": "python",
   "pygments_lexer": "ipython3",
   "version": "3.11.5"
  }
 },
 "nbformat": 4,
 "nbformat_minor": 2
}
