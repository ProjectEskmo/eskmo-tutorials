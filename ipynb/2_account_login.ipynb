{
 "cells": [
  {
   "cell_type": "markdown",
   "metadata": {},
   "source": [
    "# 2. 帳戶\n",
    "\n",
    "> <br/>\n",
    "> 帳戶相關事件與物件，請見 https://www.eskmo.org/user-manual/account/events.html\n",
    "> <br/>\n",
    "\n",
    "\n",
    "Eskmo 中的帳戶結構如下：\n",
    "\n",
    "| 級別       | 識別符                          | 主要用途             |\n",
    "|------------|---------------------------------|----------------------|\n",
    "| User       | user_id  (身份證字號、統一編號) | API 登入、訂閱報價   |\n",
    "| Account    | acconut_id (證券帳戶號碼)       | 下單、帳務與庫存查詢 |\n",
    "| Subaccount | subaccount_id                   |                      |\n",
    "\n",
    "Eskmo 支持多帳戶，可以有多個券商、多個 `User` 同時登入"
   ]
  },
  {
   "cell_type": "markdown",
   "metadata": {},
   "source": [
    "---\n",
    "\n",
    "## 2.1. 用戶登入\n",
    "\n",
    "要使用 Eskmo API，首先必須登入\n",
    "\n",
    "### 登入\n",
    "\n",
    "若多帳戶登入下，用戶登入可以指定 `tag` 以便區分，預設為 `user_id`\n",
    "\n",
    "> <br/>\n",
    "> 請修改下方 userId, password 為您的帳號、密碼\n",
    "> <br/>　 \n",
    "\n",
    "登入可能需要花點時間，請耐心等待"
   ]
  },
  {
   "cell_type": "code",
   "execution_count": 1,
   "metadata": {},
   "outputs": [],
   "source": [
    "from eskmo import api\n",
    "\n",
    "api.logger.show = False\n",
    "api.init()\n",
    "\n",
    "tag = \"ME\"\n",
    "user = api.login(userId=\"A123456789\", password=\"*************\", tag=tag)"
   ]
  },
  {
   "cell_type": "markdown",
   "metadata": {},
   "source": [
    "### 用戶列表\n",
    "\n",
    "可藉由 `api.users` 取得所有登入的用戶，並透過 `tag` 取得"
   ]
  },
  {
   "cell_type": "code",
   "execution_count": null,
   "metadata": {},
   "outputs": [],
   "source": [
    "me = api.users[tag]\n",
    "print(me)"
   ]
  },
  {
   "cell_type": "markdown",
   "metadata": {},
   "source": [
    "----\n",
    "\n",
    "## 2.2. 帳戶操作\n",
    "\n",
    "### 帳戶列表\n",
    "\n",
    "用戶登入後，透過帳戶列表取得對應帳戶，並對帳戶進行操作"
   ]
  },
  {
   "cell_type": "code",
   "execution_count": null,
   "metadata": {},
   "outputs": [],
   "source": [
    "from eskmo import api\n",
    "\n",
    "api.logger.show = False\n",
    "api.init()\n",
    "\n",
    "user = api.login(userId=\"A123456789\", password=\"*************\")\n",
    "accounts = user.accounts \n",
    "print(accounts)          "
   ]
  },
  {
   "cell_type": "markdown",
   "metadata": {},
   "source": [
    "### 帳戶設定\n",
    "\n",
    "用戶預設的帳戶 `user.account` 為證券帳戶\n",
    "\n",
    "透過 `set_main_account` 可修改為其他帳戶（例如期貨帳戶）"
   ]
  },
  {
   "cell_type": "code",
   "execution_count": null,
   "metadata": {},
   "outputs": [],
   "source": [
    "from eskmo import api\n",
    "\n",
    "api.logger.show = False\n",
    "api.init()\n",
    "\n",
    "user = api.login(userId=\"A123456789\", password=\"*************\")\n",
    "account = user.account\n",
    "\n",
    "# 修改預設帳戶                                                   \n",
    "user.set_main_account(account.name)     \n",
    "print(user.account)        \n",
    "\n",
    "# 修改帳戶名稱       \n",
    "account_info = (\"[帳戶號碼]\", \"主帳戶\") # 預設帳戶名稱為帳戶號碼    \n",
    "user.update_account_name(*account_info)   \n",
    "account = user.accounts[\"主帳戶\"] \n",
    "print(account)"
   ]
  }
 ],
 "metadata": {
  "kernelspec": {
   "display_name": "Python 3",
   "language": "python",
   "name": "python3"
  },
  "language_info": {
   "codemirror_mode": {
    "name": "ipython",
    "version": 3
   },
   "file_extension": ".py",
   "mimetype": "text/x-python",
   "name": "python",
   "nbconvert_exporter": "python",
   "pygments_lexer": "ipython3",
   "version": "3.11.5"
  }
 },
 "nbformat": 4,
 "nbformat_minor": 2
}
